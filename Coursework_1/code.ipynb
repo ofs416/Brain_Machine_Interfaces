{
 "cells": [
  {
   "cell_type": "code",
   "execution_count": null,
   "metadata": {
    "collapsed": true
   },
   "outputs": [],
   "source": [
    "import numpy as np\n",
    "import matplotlib.pyplot as plt\n",
    "from matplotlib import style\n",
    "style.use('classic')\n",
    "from sklearn.decomposition import PCA\n",
    "from cond_color import get_colors, plot_start, plot_end"
   ]
  },
  {
   "cell_type": "code",
   "execution_count": null,
   "outputs": [],
   "source": [
    "np.random.seed(41)"
   ],
   "metadata": {
    "collapsed": false
   }
  },
  {
   "cell_type": "markdown",
   "source": [
    "Loading Data"
   ],
   "metadata": {
    "collapsed": false
   }
  },
  {
   "cell_type": "code",
   "execution_count": null,
   "outputs": [],
   "source": [
    "data_orig = np.load('psths.npz')\n",
    "X, times = data_orig['X'], data_orig['times']"
   ],
   "metadata": {
    "collapsed": false
   }
  },
  {
   "cell_type": "markdown",
   "source": [
    "# Exercise 1: Plotting raw PSTHs"
   ],
   "metadata": {
    "collapsed": false
   }
  },
  {
   "cell_type": "code",
   "execution_count": null,
   "outputs": [],
   "source": [
    "def plot_psths(data, timeintervals, n_rows, n_cols, n_cond):\n",
    "    np.random.seed(41)\n",
    "    cond = np.random.randint(low=data.shape[1], size=n_cond)\n",
    "\n",
    "    fig, ax = plt.subplots(n_rows, n_cols, tight_layout=True, figsize=(8,12))\n",
    "    for row in ax:\n",
    "        n = np.random.randint(low=data.shape[0], size=1)[0]\n",
    "        for c in cond:\n",
    "            row.plot(timeintervals, data[n, c,:], label = 'Condition = '+str(c))\n",
    "            row.set_title(f'Neuron {n}')\n",
    "            row.set_xlabel('Time relative to onset of hand movement')\n",
    "            row.set_ylabel('Trial-averaged spike rate (Hz)')\n",
    "            row.legend(loc='upper left', prop={'size': 10})\n",
    "    return"
   ],
   "metadata": {
    "collapsed": false
   }
  },
  {
   "cell_type": "code",
   "execution_count": null,
   "outputs": [],
   "source": [
    "plot_psths(X, times, 3, 1, 4)"
   ],
   "metadata": {
    "collapsed": false
   }
  },
  {
   "cell_type": "code",
   "execution_count": null,
   "outputs": [],
   "source": [
    "pop_mean = data_orig['X'].mean(axis=(0,1))\n",
    "plt.plot(times, pop_mean)\n",
    "plt.title('Original Population')\n",
    "plt.xlabel('Time relative to onset of hand movement (ms)')\n",
    "plt.ylabel('Population-averaged firing rate (Hz)')\n",
    "\n",
    "plt.show()"
   ],
   "metadata": {
    "collapsed": false
   }
  },
  {
   "cell_type": "markdown",
   "source": [
    "# Exercise 2: Pre-processing"
   ],
   "metadata": {
    "collapsed": false
   }
  },
  {
   "cell_type": "markdown",
   "source": [
    "## Normalisation"
   ],
   "metadata": {
    "collapsed": false
   }
  },
  {
   "cell_type": "code",
   "execution_count": null,
   "outputs": [],
   "source": [
    "def plot_max_hist(data):\n",
    "    plt.hist(data.max(axis=(1,2)), bins=20)\n",
    "    plt.title('Histogram of neuron maximum values')\n",
    "    plt.ylabel('Frequency')\n",
    "    plt.xlabel('Max value for a given neuron across time and conditions')\n",
    "\n",
    "    plt.show()\n",
    "    return"
   ],
   "metadata": {
    "collapsed": false
   }
  },
  {
   "cell_type": "code",
   "execution_count": null,
   "outputs": [],
   "source": [
    "plot_max_hist(X)"
   ],
   "metadata": {
    "collapsed": false
   }
  },
  {
   "cell_type": "code",
   "execution_count": null,
   "outputs": [],
   "source": [
    "def norm_data(data):\n",
    "    a, b = data.max(axis=(1,2)), data.min(axis=(1,2))\n",
    "    a, b = a.reshape(data.shape[0],1,1), b.reshape(182,1,1)\n",
    "    data_normed = (data - b) / (a - b + 5 )\n",
    "\n",
    "    return data_normed"
   ],
   "metadata": {
    "collapsed": false
   }
  },
  {
   "cell_type": "code",
   "execution_count": null,
   "outputs": [],
   "source": [
    "X_norm = norm_data(X)"
   ],
   "metadata": {
    "collapsed": false
   }
  },
  {
   "cell_type": "code",
   "execution_count": null,
   "outputs": [],
   "source": [
    "plot_psths(X_norm, times, 2, 1, 4)"
   ],
   "metadata": {
    "collapsed": false
   }
  },
  {
   "cell_type": "markdown",
   "source": [
    "## Mean centering"
   ],
   "metadata": {
    "collapsed": false
   }
  },
  {
   "cell_type": "code",
   "execution_count": null,
   "outputs": [],
   "source": [
    "def center_data(data):\n",
    "    mean = data.mean(axis=(0,2))\n",
    "    mean = mean.reshape(1, 108, 1)\n",
    "    data_centered = data - mean\n",
    "    return data_centered"
   ],
   "metadata": {
    "collapsed": false
   }
  },
  {
   "cell_type": "code",
   "execution_count": null,
   "outputs": [],
   "source": [
    "X_norm_mean = center_data(X_norm)"
   ],
   "metadata": {
    "collapsed": false
   }
  },
  {
   "cell_type": "code",
   "execution_count": null,
   "outputs": [],
   "source": [
    "plot_psths(X_norm_mean, times, 3, 1, 4)"
   ],
   "metadata": {
    "collapsed": false
   }
  },
  {
   "cell_type": "code",
   "execution_count": null,
   "outputs": [],
   "source": [
    "pop_mean = X_norm_mean.mean(axis=(0,1))\n",
    "plt.plot(times, pop_mean)\n",
    "plt.title('Pre-processed Population')\n",
    "plt.xlabel('Time relative to onset of hand movement (ms)')\n",
    "plt.ylabel('Population-averaged firing rate (Hz)')\n",
    "\n",
    "plt.show()"
   ],
   "metadata": {
    "collapsed": false
   }
  },
  {
   "cell_type": "markdown",
   "source": [
    "## Dimensionality reduction by PCA"
   ],
   "metadata": {
    "collapsed": false
   }
  },
  {
   "cell_type": "code",
   "execution_count": null,
   "outputs": [],
   "source": [
    "# times = times[65:111]"
   ],
   "metadata": {
    "collapsed": false
   }
  },
  {
   "cell_type": "code",
   "execution_count": null,
   "outputs": [],
   "source": [
    "X_trunc = X_norm_mean[:,:,65:111]\n",
    "X = X_trunc.reshape(X_trunc.shape[0], X_trunc.shape[1]*X_trunc.shape[2])"
   ],
   "metadata": {
    "collapsed": false
   }
  },
  {
   "cell_type": "code",
   "execution_count": null,
   "outputs": [],
   "source": [
    "pca = PCA(n_components=12)\n",
    "pca.fit(X.T)\n",
    "Z = pca.transform(X.T).T"
   ],
   "metadata": {
    "collapsed": false
   }
  },
  {
   "cell_type": "markdown",
   "source": [
    "# Plotting PC space trajectorie"
   ],
   "metadata": {
    "collapsed": false
   }
  },
  {
   "cell_type": "code",
   "execution_count": null,
   "outputs": [],
   "source": [
    "Z = Z.reshape(12, X_trunc.shape[1], X_trunc.shape[2])"
   ],
   "metadata": {
    "collapsed": false
   }
  },
  {
   "cell_type": "code",
   "execution_count": null,
   "outputs": [],
   "source": [
    "def plot_pca_psths(data1, pca_axis_1, pca_axis_2, data2=None, alpha=1):\n",
    "    np.random.seed(41)\n",
    "    pca_axis_1 -= 1\n",
    "    pca_axis_2 -= 1\n",
    "    alt_colors = [False, True]\n",
    "\n",
    "    for index, data in enumerate([data1, data2]):\n",
    "        if data is not None:\n",
    "            colors = get_colors(data[pca_axis_1, :, 0], data[pca_axis_2, :, 0], alt_colors[index//2])\n",
    "            for cond in range(0, data.shape[1]):\n",
    "                plt.plot(data[pca_axis_1, cond, :], data[pca_axis_2, cond, :], label = 'C = '+str(cond), color=colors[cond], alpha=alpha)\n",
    "                plt.title(f'PCA plot')\n",
    "                plt.xlabel(f'PC - {pca_axis_1 + 1}')\n",
    "                plt.ylabel(f'PC - {pca_axis_2 + 1}')\n",
    "            plot_start(data[pca_axis_1, :, 0], data[pca_axis_2, :, 0], colors, markersize=50, ax=None)\n",
    "            plot_end(data[pca_axis_1, :, -1], data[pca_axis_2, :, -1], colors, markersize=50, ax=None)\n",
    "        else:\n",
    "            pass\n",
    "    plt.show()\n",
    "    return"
   ],
   "metadata": {
    "collapsed": false
   }
  },
  {
   "cell_type": "code",
   "execution_count": null,
   "outputs": [],
   "source": [
    "plot_pca_psths(Z, 1, 2, alpha=0.75)"
   ],
   "metadata": {
    "collapsed": false
   }
  },
  {
   "cell_type": "code",
   "execution_count": null,
   "outputs": [],
   "source": [
    "plot_pca_psths(Z, 1, 3, alpha=0.75)"
   ],
   "metadata": {
    "collapsed": false
   }
  },
  {
   "cell_type": "markdown",
   "source": [
    "# Exercise 4: Finding the max. likelihood estimate for A"
   ],
   "metadata": {
    "collapsed": false
   }
  },
  {
   "cell_type": "markdown",
   "source": [
    "## Log-likelihood and its (naive) gradient"
   ],
   "metadata": {
    "collapsed": false
   }
  },
  {
   "cell_type": "markdown",
   "source": [
    "$\\Delta z_{t+1} = Az_{t} + \\sigma \\epsilon_t$ where $\\sigma=1$"
   ],
   "metadata": {
    "collapsed": false
   }
  },
  {
   "cell_type": "markdown",
   "source": [
    "$\\Delta z_{t+1} = N(Az_{t},I_{12\\times12})$"
   ],
   "metadata": {
    "collapsed": false
   }
  },
  {
   "cell_type": "markdown",
   "source": [
    "$P(\\Delta z_{1:T-1} | z_{0:T-1}) = \\prod^T_{t=0}N(Az_{t},I_{12\\times12})$"
   ],
   "metadata": {
    "collapsed": false
   }
  },
  {
   "cell_type": "markdown",
   "source": [
    "$log(P(\\Delta z_{1:T} | z_{0:T-1})) = \\sum^T_{t=0}log(N(Az_{t},I_{12\\times12}))$"
   ],
   "metadata": {
    "collapsed": false
   }
  },
  {
   "cell_type": "markdown",
   "source": [
    "$log(P(\\Delta z_{1:T} | z_{0:T-1})) = \\sum^T_{t=0} log(\\exp(-(\\Delta z_{t+1} - Az_{t})^TI_{12\\times12}(\\Delta z_{t+1} - Az_{t}))) + const$"
   ],
   "metadata": {
    "collapsed": false
   }
  },
  {
   "cell_type": "markdown",
   "source": [
    "$log(P(\\Delta z_{1:T} | z_{0:T-1})) = -\\sum^T_{t=0} (\\Delta z_{t+1} - Az_{t})^TI_{12\\times12}(\\Delta z_{t+1} - Az_{t}) + const$"
   ],
   "metadata": {
    "collapsed": false
   }
  },
  {
   "cell_type": "markdown",
   "source": [
    "$log(P(\\Delta Z | Z)) \\approx -(\\Delta Z - AZ)^T(\\Delta Z - AZ) \\approx  - Z^TA^TAZ + 2\\Delta Z^T A Z$"
   ],
   "metadata": {
    "collapsed": false
   }
  },
  {
   "cell_type": "markdown",
   "source": [
    "$\\frac{d}{dA}(log(P(\\Delta Z | Z))) = -2 AZZ^T + 2\\Delta Z Z^T$"
   ],
   "metadata": {
    "collapsed": false
   }
  },
  {
   "cell_type": "markdown",
   "source": [
    "##  Parametrising an antisymmetric"
   ],
   "metadata": {
    "collapsed": false
   }
  },
  {
   "cell_type": "markdown",
   "source": [
    "K will equal 6, the number of matrix entries above the diagonal"
   ],
   "metadata": {
    "collapsed": false
   }
  },
  {
   "cell_type": "markdown",
   "source": [
    "$M \\times M = 2K + M$"
   ],
   "metadata": {
    "collapsed": false
   }
  },
  {
   "cell_type": "markdown",
   "source": [
    "$K = \\frac{M(M-1)}{2}$"
   ],
   "metadata": {
    "collapsed": false
   }
  },
  {
   "cell_type": "code",
   "execution_count": null,
   "outputs": [],
   "source": [
    "beta = np.array([[0.0001, 1, 1, 0.0001, 1, 1]])\n",
    "\n",
    "def create_h(m):\n",
    "    k = int( (m**2 - m)/2)\n",
    "    h = np.zeros((k, m, m))\n",
    "    row, column = 0, 1\n",
    "    for i in range(0, k):\n",
    "        h[i][int(row)][int(column)], h[i][int(column)][int(row)] = 1, -1\n",
    "        column += 1\n",
    "        if column >= m:\n",
    "            row += 1\n",
    "            column = row + 1\n",
    "    return h\n",
    "\n",
    "H = create_h(4)\n",
    "print(beta.shape)\n",
    "print(H.shape)\n",
    "print(H)\n",
    "\n",
    "A = np.tensordot(beta, H, axes=1)"
   ],
   "metadata": {
    "collapsed": false
   }
  },
  {
   "cell_type": "markdown",
   "source": [
    "# Gradient with respect to β"
   ],
   "metadata": {
    "collapsed": false
   }
  },
  {
   "cell_type": "markdown",
   "source": [
    "$log(P(\\Delta Z | Z)) \\approx  - (\\sum^K_{a=1}\\beta_a \\sum^M_{j=1}H_{a,i,j}Z_{j,n})^T(\\sum^K_{a=1}\\beta_a\\sum^M_{j=1}H_{a,i,j}Z_{j,n}) + 2\\Delta Z^T (\\sum^K_{a=1}\\beta_a\\sum^M_{j=1}H_{a,i,j}Z_{j,n})$"
   ],
   "metadata": {
    "collapsed": false
   }
  },
  {
   "cell_type": "markdown",
   "source": [
    "$log(P(\\Delta Z | Z)) \\approx  - (\\sum^K_{a=1}\\beta_a W_{a,i,n})^T(\\sum^K_{a=1}\\beta_aW_{a,i,n}) + 2\\Delta Z^T (\\sum^K_{a=1}\\beta_aW_{a,i,n}) = - (\\beta W)^T(\\beta W) + 2\\Delta Z^T (\\beta W)$"
   ],
   "metadata": {
    "collapsed": false
   }
  },
  {
   "cell_type": "markdown",
   "source": [
    "$\\frac{d}{d\\beta}(log(P(\\Delta Z | Z))) \\approx - 2\\beta W^TW + 2\\Delta Z^T W$"
   ],
   "metadata": {
    "collapsed": false
   }
  },
  {
   "cell_type": "markdown",
   "source": [
    "$Q = W^TW$ and $b = \\Delta Z^T W$"
   ],
   "metadata": {
    "collapsed": false
   }
  },
  {
   "cell_type": "markdown",
   "source": [
    "## An antisymmetric estimate for A"
   ],
   "metadata": {
    "collapsed": false
   }
  },
  {
   "cell_type": "markdown",
   "source": [
    "Solve $ \\beta = b Q^{-1}$"
   ],
   "metadata": {
    "collapsed": false
   }
  },
  {
   "cell_type": "code",
   "execution_count": null,
   "outputs": [],
   "source": [
    "def a_estimate(z):\n",
    "    m = z.shape[0]\n",
    "    z_plus, z_  = z[:,:,1:], z[:,:,:-1]\n",
    "    z_plus = z_plus.reshape((m, z_plus.shape[1]*z_plus.shape[2]))\n",
    "    z_ = z_.reshape((m, z_.shape[1]*z_.shape[2]))\n",
    "\n",
    "    h = create_h(z_.shape[0])\n",
    "    w = np.tensordot(h, z_, axes=1)\n",
    "    q = np.tensordot(w, w, axes=([1,2],[1,2]))\n",
    "\n",
    "    delta_z = z_plus - z_\n",
    "    b = np.tensordot(delta_z, w, axes=([0,1],[1,2]))\n",
    "    b = b.reshape((1,66))\n",
    "\n",
    "    beta = b @ np.linalg.inv(q)\n",
    "    a = np.tensordot(beta, h, axes=([1],[0]))\n",
    "    a = a.reshape((m, m))\n",
    "    return beta, a"
   ],
   "metadata": {
    "collapsed": false
   }
  },
  {
   "cell_type": "code",
   "execution_count": null,
   "outputs": [],
   "source": [
    "beta, A = a_estimate(Z)"
   ],
   "metadata": {
    "collapsed": false
   }
  },
  {
   "cell_type": "code",
   "execution_count": null,
   "outputs": [],
   "source": [
    "img = plt.imshow(A, interpolation ='nearest', cmap='plasma' )\n",
    "plt.colorbar(img)\n",
    "plt.title('Colour plot of A')\n",
    "plt.show()"
   ],
   "metadata": {
    "collapsed": false
   }
  },
  {
   "cell_type": "markdown",
   "source": [
    "## Test"
   ],
   "metadata": {
    "collapsed": false
   }
  },
  {
   "cell_type": "code",
   "execution_count": null,
   "outputs": [],
   "source": [
    "test = np.load('test.npz')\n",
    "Z_test = test['Z_test']\n",
    "A_test = test['A_test']"
   ],
   "metadata": {
    "collapsed": false
   }
  },
  {
   "cell_type": "code",
   "execution_count": null,
   "outputs": [],
   "source": [
    "beta_test_estimated, A_test_estimated = a_estimate(Z_test)"
   ],
   "metadata": {
    "collapsed": false
   }
  },
  {
   "cell_type": "code",
   "execution_count": null,
   "outputs": [],
   "source": [
    "A_inaccuracy = (A_test_estimated - A_test)\n",
    "print(A_inaccuracy.max())"
   ],
   "metadata": {
    "collapsed": false
   }
  },
  {
   "cell_type": "markdown",
   "source": [
    "# Exercise 5: 2D projections with rotational dynamics"
   ],
   "metadata": {
    "collapsed": false
   }
  },
  {
   "cell_type": "markdown",
   "source": [
    "## A) Eigenvalues and Eigenvectors of A"
   ],
   "metadata": {
    "collapsed": false
   }
  },
  {
   "cell_type": "code",
   "execution_count": null,
   "outputs": [],
   "source": [
    "A_evalue, A_evector = np.linalg.eig(A)\n",
    "print(A_evalue)"
   ],
   "metadata": {
    "collapsed": false
   }
  },
  {
   "cell_type": "markdown",
   "source": [
    "## B)"
   ],
   "metadata": {
    "collapsed": false
   }
  },
  {
   "cell_type": "code",
   "execution_count": null,
   "outputs": [],
   "source": [
    "def get_p(eigen_vectors, plane):\n",
    "    evector_real = eigen_vectors[:,plane].real\n",
    "    evector_imag = eigen_vectors[:,plane].imag\n",
    "    p = np.zeros((2, 12))\n",
    "    p[0, :] = evector_real/np.linalg.norm(evector_real)\n",
    "    p[1, :] = evector_imag/np.linalg.norm(evector_imag)\n",
    "    print(p[0, :].T @ p[1, :])\n",
    "    return p"
   ],
   "metadata": {
    "collapsed": false
   }
  },
  {
   "cell_type": "code",
   "execution_count": null,
   "outputs": [],
   "source": [
    "P_FR = get_p(A_evector, 0)"
   ],
   "metadata": {
    "collapsed": false
   }
  },
  {
   "cell_type": "markdown",
   "source": [
    "## C)"
   ],
   "metadata": {
    "collapsed": false
   }
  },
  {
   "cell_type": "code",
   "execution_count": null,
   "outputs": [],
   "source": [
    "def plot_proj_psths(data1, title, data2=None, alpha=1):\n",
    "    np.random.seed(41)\n",
    "    alt_colors = [False, True]\n",
    "\n",
    "    for index, data in enumerate([data1, data2]):\n",
    "        if data is not None:\n",
    "            colors = get_colors(data[0, :, 0], data[1, :, 0], alt_colors[index//2])\n",
    "            for cond in range(0, data.shape[1]):\n",
    "                plt.plot(data[0, cond, :], data[1, cond, :], label = 'C = '+str(cond), color=colors[cond], alpha=alpha)\n",
    "                plt.title(title)\n",
    "                plt.xlabel(f'Axis 1')\n",
    "                plt.ylabel(f'Axis 2')\n",
    "            plot_start(data[0, :, 0], data[1, :, 0], colors, markersize=50, ax=None)\n",
    "            plot_end(data[0, :, -1], data[1, :, -1], colors, markersize=50, ax=None)\n",
    "        else:\n",
    "            pass\n",
    "    plt.show()\n",
    "    return"
   ],
   "metadata": {
    "collapsed": false
   }
  },
  {
   "cell_type": "code",
   "execution_count": null,
   "outputs": [],
   "source": [
    "Projection_FR = np.tensordot(P_FR, Z, axes=([1],[0]))"
   ],
   "metadata": {
    "collapsed": false
   }
  },
  {
   "cell_type": "code",
   "execution_count": null,
   "outputs": [],
   "source": [
    "plot_proj_psths(Projection_FR[:, :, 0:36], 'Z projected onto the FR plane', alpha=0.75)"
   ],
   "metadata": {
    "collapsed": false
   }
  },
  {
   "cell_type": "markdown",
   "source": [
    "## D)"
   ],
   "metadata": {
    "collapsed": false
   }
  },
  {
   "cell_type": "code",
   "execution_count": null,
   "outputs": [],
   "source": [
    "P_2 = get_p(A_evector, 3)\n",
    "Projection_2 = np.tensordot(P_2, Z, axes=([1], [0]))\n",
    "P_3 = get_p(A_evector, 5)\n",
    "Projection_3 = np.tensordot(P_3, Z, axes=([1], [0]))"
   ],
   "metadata": {
    "collapsed": false
   }
  },
  {
   "cell_type": "code",
   "execution_count": null,
   "outputs": [],
   "source": [
    "fig, ax = plt.subplots(2, 1, tight_layout=True, figsize=(10,15))\n",
    "data1 = Projection_2[:, :, 0:36]\n",
    "data2 = Projection_3[:, :, 0:36]\n",
    "colors = get_colors(data1[0, :, 0], data1[1, :, 0])\n",
    "for cond in range(0, data1.shape[1]):\n",
    "    ax[0].plot(data1[0, cond, :], data1[1, cond, :], label = 'C = '+str(cond), color=colors[cond], alpha=0.75)\n",
    "    ax[0].set_title('Z projected onto the 2nd plane')\n",
    "    ax[0].set_xlabel(f'Axis 1')\n",
    "    ax[0].set_ylabel(f'Axis 2')\n",
    "plot_start(data1[0, :, 0], data1[1, :, 0], colors, markersize=50, ax=ax[0])\n",
    "plot_end(data1[0, :, -1], data1[1, :, -1], colors, markersize=50, ax=ax[0])\n",
    "\n",
    "colors = get_colors(data2[0, :, 0], data2[1, :, 0])\n",
    "for cond in range(0, data2.shape[1]):\n",
    "    ax[1].plot(data2[0, cond, :], data2[1, cond, :], label = 'C = '+str(cond), color=colors[cond], alpha=0.75)\n",
    "    ax[1].set_title('Z projected onto the 3rd plane')\n",
    "    ax[1].set_xlabel(f'Axis 1')\n",
    "    ax[1].set_ylabel(f'Axis 2')\n",
    "plot_start(data2[0, :, 0], data2[1, :, 0], colors, markersize=50, ax=ax[1])\n",
    "plot_end(data2[0, :, -1], data2[1, :, -1], colors, markersize=50, ax=ax[1])"
   ],
   "metadata": {
    "collapsed": false
   }
  },
  {
   "cell_type": "markdown",
   "source": [
    "# Exercise 6: Pre-movement period"
   ],
   "metadata": {
    "collapsed": false
   }
  },
  {
   "cell_type": "code",
   "execution_count": null,
   "outputs": [],
   "source": [
    "X_pre = X_norm_mean[:, :, :66]\n",
    "X = X_pre.reshape(X_pre.shape[0], X_pre.shape[1] * X_pre.shape[2])\n",
    "Z_pre = pca.transform(X.T).T\n",
    "Z_pre = Z_pre.reshape(12 , X_pre.shape[1], X_pre.shape[2])\n",
    "Projection_FR_pre = np.tensordot(P_FR, Z_pre, axes=([1], [0]))"
   ],
   "metadata": {
    "collapsed": false
   }
  },
  {
   "cell_type": "code",
   "execution_count": null,
   "outputs": [],
   "source": [
    "plt.figure(figsize=(10, 10))\n",
    "data = Projection_FR\n",
    "colors = get_colors(data[0, :, 0], data[1, :, 0], alt_colors=False)\n",
    "for cond in range(0, data.shape[1]):\n",
    "    plt.plot(data[0, cond, :], data[1, cond, :], label = 'C = '+str(cond), color=colors[cond], alpha=0.5)\n",
    "    plot_start(data[0, :, 0], data[1, :, 0], colors, markersize=50, ax=None)\n",
    "    plot_end(data[0, :, -1], data[1, :, -1], colors, markersize=50, ax=None)\n",
    "\n",
    "data = Projection_FR_pre\n",
    "colors = get_colors(data[0, :, -1], data[1, :, -1], alt_colors=True)\n",
    "for cond in range(0, data.shape[1]):\n",
    "    plt.plot(data[0, cond, :], data[1, cond, :], label = 'C = '+str(cond), color=colors[cond], alpha=0.5)\n",
    "    plot_start(data[0, :, 0], data[1, :, 0], colors, markersize=50, ax=None)\n",
    "    plot_end(data[0, :, -1], data[1, :, -1], colors, markersize=50, ax=None)\n",
    "\n",
    "plt.title('Z (-800ms to 300ms) projected on the FR plane')\n",
    "plt.xlabel(f'Axis 1')\n",
    "plt.ylabel(f'Axis 2')\n",
    "\n",
    "plt.show()"
   ],
   "metadata": {
    "collapsed": false
   }
  },
  {
   "cell_type": "markdown",
   "source": [
    "# Exercise 7: Control Analysis"
   ],
   "metadata": {
    "collapsed": false
   }
  },
  {
   "cell_type": "code",
   "execution_count": null,
   "outputs": [],
   "source": [
    "## Load data\n",
    "X_seven, times = data_orig['X'], data_orig['times']"
   ],
   "metadata": {
    "collapsed": false
   }
  },
  {
   "cell_type": "code",
   "execution_count": null,
   "outputs": [],
   "source": [
    "## Plot pre-distortion\n",
    "plot_psths(X_seven, times, 2, 1, 4)"
   ],
   "metadata": {
    "collapsed": false
   }
  },
  {
   "cell_type": "code",
   "execution_count": null,
   "outputs": [],
   "source": [
    "## Distortion\n",
    "for N in range(X_seven.shape[0]):\n",
    "    conditions = np.random.choice(108, (108//2,), replace=False)\n",
    "    X_seven[N, conditions, 65:] = 2*X_seven[N, conditions, 65].reshape((54,1))- X_seven[N, conditions, 65:]"
   ],
   "metadata": {
    "collapsed": false
   }
  },
  {
   "cell_type": "code",
   "execution_count": null,
   "outputs": [],
   "source": [
    "## Normalising\n",
    "X_seven_norm = norm_data(X_seven)"
   ],
   "metadata": {
    "collapsed": false
   }
  },
  {
   "cell_type": "code",
   "execution_count": null,
   "outputs": [],
   "source": [
    "## Mean centering\n",
    "X_seven_norm_mean = center_data(X_seven_norm)\n",
    "plot_psths(X_seven_norm_mean, times, 3, 1, 4)"
   ],
   "metadata": {
    "collapsed": false
   }
  },
  {
   "cell_type": "code",
   "execution_count": null,
   "outputs": [],
   "source": [
    "## Dimensionality reduction by PCA\n",
    "X_seven_trunc = X_seven_norm_mean[:, :, 65:111]\n",
    "X_seven = X_seven_trunc.reshape(X_seven_trunc.shape[0], X_seven_trunc.shape[1] * X_seven_trunc.shape[2])\n",
    "pca_seven = PCA(n_components=12)\n",
    "pca_seven.fit(X_seven.T)\n",
    "Z = pca_seven.transform(X_seven.T).T"
   ],
   "metadata": {
    "collapsed": false
   }
  },
  {
   "cell_type": "code",
   "execution_count": null,
   "outputs": [],
   "source": [
    "Z = Z.reshape(12, X_trunc.shape[1], X_trunc.shape[2])\n",
    "plot_pca_psths(Z, 1, 2)"
   ],
   "metadata": {
    "collapsed": false
   }
  },
  {
   "cell_type": "code",
   "execution_count": null,
   "outputs": [],
   "source": [
    "# Exercise 4\n",
    "beta, A = a_estimate(Z)\n",
    "img = plt.imshow(A, interpolation ='nearest', cmap='plasma' )\n",
    "plt.colorbar(img)\n",
    "plt.title('Colour plot of A')\n",
    "plt.show()"
   ],
   "metadata": {
    "collapsed": false
   }
  },
  {
   "cell_type": "code",
   "execution_count": null,
   "outputs": [],
   "source": [
    "## A)\n",
    "A_evalue, A_evector = np.linalg.eig(A)\n",
    "\n",
    "## B)\n",
    "P_FR = get_p(A_evector, 0)\n",
    "\n",
    "## C)\n",
    "Projection_FR = np.tensordot(P_FR, Z, axes=([1], [0]))\n",
    "plot_proj_psths(Projection_FR[:, :, 0:36], 'Projection of disorted Z onto the FR plane', alpha=0.75)"
   ],
   "metadata": {
    "collapsed": false
   }
  },
  {
   "cell_type": "code",
   "execution_count": null,
   "outputs": [],
   "source": [],
   "metadata": {
    "collapsed": false
   }
  }
 ],
 "metadata": {
  "kernelspec": {
   "display_name": "Python 3",
   "language": "python",
   "name": "python3"
  },
  "language_info": {
   "codemirror_mode": {
    "name": "ipython",
    "version": 2
   },
   "file_extension": ".py",
   "mimetype": "text/x-python",
   "name": "python",
   "nbconvert_exporter": "python",
   "pygments_lexer": "ipython2",
   "version": "2.7.6"
  }
 },
 "nbformat": 4,
 "nbformat_minor": 0
}
